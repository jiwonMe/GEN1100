{
 "cells": [
  {
   "cell_type": "markdown",
   "id": "f1d49f1f",
   "metadata": {},
   "source": [
    "# 1. 실행방법\n",
    "## 1.1 첫번째: `shift` + `enter` &rarr; 실행이 되고 아래에 셀이 하나 생성됨\n",
    "## 1.2 두번째: `cmd` + `enter` &rarr; 실행이 되고 그 셀에 그대로 있음"
   ]
  },
  {
   "cell_type": "markdown",
   "id": "d69c413e",
   "metadata": {},
   "source": [
    "# 2. mode 변환\n",
    "## 2.1 `m`: markdown 상태로\n",
    "## 2.2 `y`: 파이썬 코드 상태로"
   ]
  },
  {
   "cell_type": "markdown",
   "id": "22c4b05a",
   "metadata": {},
   "source": [
    "# 3. 셀 추가, 삭제\n",
    "## 3.1 추가: `a` &rarr; 위쪽에 추가, `b` &rarr; 아래쪽에 추가\n",
    "## 3.2 삭제: `x`"
   ]
  },
  {
   "cell_type": "code",
   "execution_count": 4,
   "id": "b07e82fb",
   "metadata": {},
   "outputs": [
    {
     "name": "stdout",
     "output_type": "stream",
     "text": [
      "학과:  정보시스템\n"
     ]
    }
   ],
   "source": [
    "print('학과: ', '정보시스템')"
   ]
  },
  {
   "cell_type": "code",
   "execution_count": 5,
   "id": "159b4d3e",
   "metadata": {},
   "outputs": [
    {
     "name": "stdout",
     "output_type": "stream",
     "text": [
      "학번:  2020020255\n"
     ]
    }
   ],
   "source": [
    "print('학번: ', 2020020255)"
   ]
  },
  {
   "cell_type": "code",
   "execution_count": 6,
   "id": "778278e4",
   "metadata": {},
   "outputs": [
    {
     "name": "stdout",
     "output_type": "stream",
     "text": [
      "이름:  박지원\n"
     ]
    }
   ],
   "source": [
    "print('이름: ', '박지원')"
   ]
  }
 ],
 "metadata": {
  "kernelspec": {
   "display_name": "Python 3",
   "language": "python",
   "name": "python3"
  },
  "language_info": {
   "codemirror_mode": {
    "name": "ipython",
    "version": 3
   },
   "file_extension": ".py",
   "mimetype": "text/x-python",
   "name": "python",
   "nbconvert_exporter": "python",
   "pygments_lexer": "ipython3",
   "version": "3.8.8"
  }
 },
 "nbformat": 4,
 "nbformat_minor": 5
}
